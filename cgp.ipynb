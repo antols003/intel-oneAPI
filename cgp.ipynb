{
 "cells": [
  {
   "cell_type": "code",
   "execution_count": 1,
   "metadata": {},
   "outputs": [
    {
     "name": "stdout",
     "output_type": "stream",
     "text": [
      "Collecting opencv-pythonNote: you may need to restart the kernel to use updated packages.\n",
      "\n",
      "  Downloading opencv_python-4.7.0.72-cp37-abi3-win_amd64.whl (38.2 MB)\n",
      "     -------------------------------------- 38.2/38.2 MB 906.7 kB/s eta 0:00:00\n",
      "Collecting numpy\n",
      "  Downloading numpy-1.24.3-cp311-cp311-win_amd64.whl (14.8 MB)\n",
      "     ---------------------------------------- 14.8/14.8 MB 1.3 MB/s eta 0:00:00\n",
      "Installing collected packages: numpy, opencv-python\n",
      "Successfully installed numpy-1.24.3 opencv-python-4.7.0.72\n"
     ]
    },
    {
     "name": "stderr",
     "output_type": "stream",
     "text": [
      "\n",
      "[notice] A new release of pip available: 22.3.1 -> 23.1.2\n",
      "[notice] To update, run: python.exe -m pip install --upgrade pip\n"
     ]
    }
   ],
   "source": [
    "pip install opencv-python numpy"
   ]
  },
  {
   "cell_type": "code",
   "execution_count": 3,
   "metadata": {},
   "outputs": [
    {
     "name": "stdout",
     "output_type": "stream",
     "text": [
      "Note: you may need to restart the kernel to use updated packages.Collecting matplotlib\n",
      "  Downloading matplotlib-3.7.1-cp311-cp311-win_amd64.whl (7.6 MB)\n",
      "     ---------------------------------------- 7.6/7.6 MB 783.7 kB/s eta 0:00:00\n",
      "Collecting contourpy>=1.0.1\n",
      "  Downloading contourpy-1.0.7-cp311-cp311-win_amd64.whl (162 kB)\n",
      "     -------------------------------------- 163.0/163.0 kB 1.4 MB/s eta 0:00:00\n",
      "Collecting cycler>=0.10\n",
      "  Downloading cycler-0.11.0-py3-none-any.whl (6.4 kB)\n",
      "Collecting fonttools>=4.22.0\n",
      "  Downloading fonttools-4.39.4-py3-none-any.whl (1.0 MB)\n",
      "     ---------------------------------------- 1.0/1.0 MB 1.1 MB/s eta 0:00:00\n",
      "Collecting kiwisolver>=1.0.1\n",
      "  Downloading kiwisolver-1.4.4-cp311-cp311-win_amd64.whl (55 kB)\n",
      "     -------------------------------------- 55.4/55.4 kB 728.3 kB/s eta 0:00:00\n",
      "Requirement already satisfied: numpy>=1.20 in c:\\users\\antoj\\appdata\\local\\programs\\python\\python311\\lib\\site-packages (from matplotlib) (1.24.3)\n",
      "Requirement already satisfied: packaging>=20.0 in c:\\users\\antoj\\appdata\\roaming\\python\\python311\\site-packages (from matplotlib) (23.1)\n",
      "Collecting pillow>=6.2.0\n",
      "  Downloading Pillow-9.5.0-cp311-cp311-win_amd64.whl (2.5 MB)\n",
      "     ---------------------------------------- 2.5/2.5 MB 909.6 kB/s eta 0:00:00\n",
      "Collecting pyparsing>=2.3.1\n",
      "  Downloading pyparsing-3.0.9-py3-none-any.whl (98 kB)\n",
      "     -------------------------------------- 98.3/98.3 kB 512.2 kB/s eta 0:00:00\n",
      "Requirement already satisfied: python-dateutil>=2.7 in c:\\users\\antoj\\appdata\\roaming\\python\\python311\\site-packages (from matplotlib) (2.8.2)\n",
      "Requirement already satisfied: six>=1.5 in c:\\users\\antoj\\appdata\\roaming\\python\\python311\\site-packages (from python-dateutil>=2.7->matplotlib) (1.16.0)\n",
      "Installing collected packages: pyparsing, pillow, kiwisolver, fonttools, cycler, contourpy, matplotlib\n",
      "Successfully installed contourpy-1.0.7 cycler-0.11.0 fonttools-4.39.4 kiwisolver-1.4.4 matplotlib-3.7.1 pillow-9.5.0 pyparsing-3.0.9\n",
      "\n"
     ]
    },
    {
     "name": "stderr",
     "output_type": "stream",
     "text": [
      "\n",
      "[notice] A new release of pip available: 22.3.1 -> 23.1.2\n",
      "[notice] To update, run: python.exe -m pip install --upgrade pip\n"
     ]
    }
   ],
   "source": [
    "pip install matplotlib"
   ]
  },
  {
   "cell_type": "code",
   "execution_count": 5,
   "metadata": {},
   "outputs": [
    {
     "name": "stdout",
     "output_type": "stream",
     "text": [
      "Collecting scikit-learn\n",
      "  Downloading scikit_learn-1.2.2-cp311-cp311-win_amd64.whl (8.3 MB)\n",
      "     ---------------------------------------- 8.3/8.3 MB 850.3 kB/s eta 0:00:00\n",
      "Requirement already satisfied: numpy>=1.17.3 in c:\\users\\antoj\\appdata\\local\\programs\\python\\python311\\lib\\site-packages (from scikit-learn) (1.24.3)\n",
      "Collecting scipy>=1.3.2\n",
      "  Downloading scipy-1.10.1-cp311-cp311-win_amd64.whl (42.2 MB)\n",
      "     -------------------------------------- 42.2/42.2 MB 754.1 kB/s eta 0:00:00\n",
      "Collecting joblib>=1.1.1\n",
      "  Downloading joblib-1.2.0-py3-none-any.whl (297 kB)\n",
      "     ------------------------------------ 298.0/298.0 kB 219.3 kB/s eta 0:00:00\n",
      "Collecting threadpoolctl>=2.0.0\n",
      "  Downloading threadpoolctl-3.1.0-py3-none-any.whl (14 kB)\n",
      "Installing collected packages: threadpoolctl, scipy, joblib, scikit-learn\n",
      "Successfully installed joblib-1.2.0 scikit-learn-1.2.2 scipy-1.10.1 threadpoolctl-3.1.0\n",
      "Note: you may need to restart the kernel to use updated packages.\n"
     ]
    },
    {
     "name": "stderr",
     "output_type": "stream",
     "text": [
      "\n",
      "[notice] A new release of pip available: 22.3.1 -> 23.1.2\n",
      "[notice] To update, run: python.exe -m pip install --upgrade pip\n"
     ]
    }
   ],
   "source": [
    "pip install -U scikit-learn\n"
   ]
  },
  {
   "cell_type": "code",
   "execution_count": 7,
   "metadata": {},
   "outputs": [
    {
     "name": "stdout",
     "output_type": "stream",
     "text": [
      "Collecting scikit-image\n",
      "  Downloading scikit_image-0.21.0-cp311-cp311-win_amd64.whl (22.8 MB)\n",
      "     -------------------------------------- 22.8/22.8 MB 626.5 kB/s eta 0:00:00\n",
      "Requirement already satisfied: numpy>=1.21.1 in c:\\users\\antoj\\appdata\\local\\programs\\python\\python311\\lib\\site-packages (from scikit-image) (1.24.3)\n",
      "Requirement already satisfied: scipy>=1.8 in c:\\users\\antoj\\appdata\\local\\programs\\python\\python311\\lib\\site-packages (from scikit-image) (1.10.1)\n",
      "Collecting networkx>=2.8\n",
      "  Downloading networkx-3.1-py3-none-any.whl (2.1 MB)\n",
      "     ---------------------------------------- 2.1/2.1 MB 411.1 kB/s eta 0:00:00\n",
      "Requirement already satisfied: pillow>=9.0.1 in c:\\users\\antoj\\appdata\\local\\programs\\python\\python311\\lib\\site-packages (from scikit-image) (9.5.0)\n",
      "Collecting imageio>=2.27\n",
      "  Downloading imageio-2.30.0-py3-none-any.whl (312 kB)\n",
      "     ------------------------------------ 312.7/312.7 kB 379.5 kB/s eta 0:00:00\n",
      "Collecting tifffile>=2022.8.12\n",
      "  Downloading tifffile-2023.4.12-py3-none-any.whl (219 kB)\n",
      "     ------------------------------------ 219.4/219.4 kB 352.1 kB/s eta 0:00:00\n",
      "Collecting PyWavelets>=1.1.1\n",
      "  Downloading PyWavelets-1.4.1-cp311-cp311-win_amd64.whl (4.2 MB)\n",
      "     ---------------------------------------- 4.2/4.2 MB 463.6 kB/s eta 0:00:00\n",
      "Requirement already satisfied: packaging>=21 in c:\\users\\antoj\\appdata\\roaming\\python\\python311\\site-packages (from scikit-image) (23.1)\n",
      "Collecting lazy_loader>=0.2\n",
      "  Downloading lazy_loader-0.2-py3-none-any.whl (8.6 kB)\n",
      "Installing collected packages: tifffile, PyWavelets, networkx, lazy_loader, imageio, scikit-image\n",
      "Successfully installed PyWavelets-1.4.1 imageio-2.30.0 lazy_loader-0.2 networkx-3.1 scikit-image-0.21.0 tifffile-2023.4.12\n",
      "Note: you may need to restart the kernel to use updated packages.\n"
     ]
    },
    {
     "name": "stderr",
     "output_type": "stream",
     "text": [
      "\n",
      "[notice] A new release of pip available: 22.3.1 -> 23.1.2\n",
      "[notice] To update, run: python.exe -m pip install --upgrade pip\n"
     ]
    }
   ],
   "source": [
    "pip install scikit-image"
   ]
  },
  {
   "cell_type": "code",
   "execution_count": 12,
   "metadata": {},
   "outputs": [
    {
     "ename": "NameError",
     "evalue": "name 'np' is not defined",
     "output_type": "error",
     "traceback": [
      "\u001b[1;31m---------------------------------------------------------------------------\u001b[0m",
      "\u001b[1;31mNameError\u001b[0m                                 Traceback (most recent call last)",
      "Cell \u001b[1;32mIn[12], line 69\u001b[0m\n\u001b[0;32m     66\u001b[0m video_path \u001b[39m=\u001b[39m \u001b[39m'\u001b[39m\u001b[39mpath_to_video_file.mp4\u001b[39m\u001b[39m'\u001b[39m\n\u001b[0;32m     68\u001b[0m \u001b[39m# Process the video frames\u001b[39;00m\n\u001b[1;32m---> 69\u001b[0m process_video(video_path)\n",
      "Cell \u001b[1;32mIn[12], line 54\u001b[0m, in \u001b[0;36mprocess_video\u001b[1;34m(video_path)\u001b[0m\n\u001b[0;32m     51\u001b[0m \u001b[39mif\u001b[39;00m \u001b[39mnot\u001b[39;00m ret:\n\u001b[0;32m     52\u001b[0m     \u001b[39mbreak\u001b[39;00m\n\u001b[1;32m---> 54\u001b[0m processed_frame \u001b[39m=\u001b[39m detect_lanes(frame)\n\u001b[0;32m     56\u001b[0m cv2\u001b[39m.\u001b[39mimshow(\u001b[39m'\u001b[39m\u001b[39mLane Detection\u001b[39m\u001b[39m'\u001b[39m, processed_frame)\n\u001b[0;32m     58\u001b[0m \u001b[39m# Exit if 'q' is pressed\u001b[39;00m\n",
      "Cell \u001b[1;32mIn[12], line 22\u001b[0m, in \u001b[0;36mdetect_lanes\u001b[1;34m(frame)\u001b[0m\n\u001b[0;32m     15\u001b[0m height, width \u001b[39m=\u001b[39m edges\u001b[39m.\u001b[39mshape\n\u001b[0;32m     16\u001b[0m roi_vertices \u001b[39m=\u001b[39m [\n\u001b[0;32m     17\u001b[0m     (\u001b[39m0\u001b[39m, height),\n\u001b[0;32m     18\u001b[0m     (width\u001b[39m/\u001b[39m\u001b[39m2\u001b[39m, height\u001b[39m/\u001b[39m\u001b[39m2\u001b[39m),\n\u001b[0;32m     19\u001b[0m     (width, height)\n\u001b[0;32m     20\u001b[0m ]\n\u001b[1;32m---> 22\u001b[0m mask \u001b[39m=\u001b[39m np\u001b[39m.\u001b[39mzeros_like(edges)\n\u001b[0;32m     23\u001b[0m cv2\u001b[39m.\u001b[39mfillPoly(mask, np\u001b[39m.\u001b[39marray([roi_vertices], dtype\u001b[39m=\u001b[39mnp\u001b[39m.\u001b[39mint32), \u001b[39m255\u001b[39m)\n\u001b[0;32m     25\u001b[0m masked_edges \u001b[39m=\u001b[39m cv2\u001b[39m.\u001b[39mbitwise_and(edges, mask)\n",
      "\u001b[1;31mNameError\u001b[0m: name 'np' is not defined"
     ]
    }
   ],
   "source": [
    "import cv2\n",
    "\n",
    "# Function to perform lane detection on a single frame\n",
    "def detect_lanes(frame):\n",
    "    # Convert the frame to grayscale\n",
    "    gray = cv2.cvtColor(frame, cv2.COLOR_BGR2GRAY)\n",
    "    \n",
    "    # Apply Gaussian blur to reduce noise\n",
    "    blurred = cv2.GaussianBlur(gray, (5, 5), 0)\n",
    "    \n",
    "    # Apply Canny edge detection\n",
    "    edges = cv2.Canny(blurred, 50, 150)\n",
    "    \n",
    "    # Define a region of interest (ROI)\n",
    "    height, width = edges.shape\n",
    "    roi_vertices = [\n",
    "        (0, height),\n",
    "        (width/2, height/2),\n",
    "        (width, height)\n",
    "    ]\n",
    "    \n",
    "    mask = np.zeros_like(edges)\n",
    "    cv2.fillPoly(mask, np.array([roi_vertices], dtype=np.int32), 255)\n",
    "    \n",
    "    masked_edges = cv2.bitwise_and(edges, mask)\n",
    "    \n",
    "    # Apply Hough line transformation\n",
    "    lines = cv2.HoughLinesP(\n",
    "        masked_edges,\n",
    "        rho=2,\n",
    "        theta=np.pi/180,\n",
    "        threshold=100,\n",
    "        minLineLength=40,\n",
    "        maxLineGap=50\n",
    "    )\n",
    "    \n",
    "    # Draw detected lines on the frame\n",
    "    for line in lines:\n",
    "        x1, y1, x2, y2 = line[0]\n",
    "        cv2.line(frame, (x1, y1), (x2, y2), (0, 255, 0), 3)\n",
    "    \n",
    "    return frame\n",
    "\n",
    "# Function to process video frames\n",
    "def process_video(video_path):\n",
    "    cap = cv2.VideoCapture(video_path)\n",
    "    \n",
    "    while cap.isOpened():\n",
    "        ret, frame = cap.read()\n",
    "        \n",
    "        if not ret:\n",
    "            break\n",
    "        \n",
    "        processed_frame = detect_lanes(frame)\n",
    "        \n",
    "        cv2.imshow('Lane Detection', processed_frame)\n",
    "        \n",
    "        # Exit if 'q' is pressed\n",
    "        if cv2.waitKey(1) & 0xFF == ord('q'):\n",
    "            break\n",
    "    \n",
    "    cap.release()\n",
    "    cv2.destroyAllWindows()\n",
    "\n",
    "# Provide the path to the video file\n",
    "video_path = 'path_to_video_file.mp4'\n",
    "\n",
    "# Process the video frames\n",
    "process_video(video_path)\n"
   ]
  }
 ],
 "metadata": {
  "kernelspec": {
   "display_name": "Python 3",
   "language": "python",
   "name": "python3"
  },
  "language_info": {
   "codemirror_mode": {
    "name": "ipython",
    "version": 3
   },
   "file_extension": ".py",
   "mimetype": "text/x-python",
   "name": "python",
   "nbconvert_exporter": "python",
   "pygments_lexer": "ipython3",
   "version": "3.11.3"
  },
  "orig_nbformat": 4
 },
 "nbformat": 4,
 "nbformat_minor": 2
}
